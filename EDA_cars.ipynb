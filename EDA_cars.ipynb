{
 "cells": [
  {
   "cell_type": "markdown",
   "id": "20f816e2",
   "metadata": {},
   "source": [
    "# Подержанные автомобили"
   ]
  },
  {
   "cell_type": "markdown",
   "id": "b8d0939c",
   "metadata": {},
   "source": [
    "Датасет содержит информацию о характеристиках и ценах подержанных автомобилей в некоторой стране"
   ]
  },
  {
   "cell_type": "markdown",
   "id": "e97ee3e2",
   "metadata": {},
   "source": [
    "**Целевая переменная**\n",
    "- `selling_price`: цена продажи, числовая\n",
    "\n",
    "**Признаки**\n",
    "- `name` (string): модель автомобиля\n",
    "- `year` (numeric, int): год выпуска с завода-изготовителя\n",
    "- `km_driven` (numeric, int): пробег на дату продажи\n",
    "- `fuel` (categorical: _Diesel_ или _Petrol_, или _CNG_, или _LPG_, или _electric_): тип топлива\n",
    "- `seller_type` (categorical: _Individual_ или _Dealer_, или _Trustmark Dealer_): продавец\n",
    "- `transmission` (categorical: _Manual_ или _Automatic_): тип трансмиссии\n",
    "- `owner` (categorical: _First Owner_ или _Second Owner_, или _Third Owner_, или _Fourth & Above Owner_): какой по счёту хозяин?\n",
    "- `mileage` (string, по смыслу числовой): пробег, требует предобработки\n",
    "- `engine` (string, по смыслу числовой): рабочий объем двигателя, требует предобработки\n",
    "- `max_power` (string, по смыслу числовой): пиковая мощность двигателя, требует предобработки\n",
    "- `torque` (string, по смыслу числовой, а то и 2): крутящий момент, требует предобработки\n",
    "- `seats` (numeric, float; по смыслу categorical, int)"
   ]
  },
  {
   "cell_type": "code",
   "execution_count": 1,
   "id": "5a87e38c",
   "metadata": {},
   "outputs": [],
   "source": [
    "import numpy as np\n",
    "import pandas as pd\n",
    "import seaborn as sns\n",
    "import plotly\n",
    "import matplotlib.pyplot as plt"
   ]
  },
  {
   "cell_type": "code",
   "execution_count": 2,
   "id": "5ec3b03c",
   "metadata": {},
   "outputs": [],
   "source": [
    "DATASET_PATH = \"https://raw.githubusercontent.com/evgpat/edu_stepik_from_idea_to_mvp/main/datasets/cars.csv\""
   ]
  },
  {
   "cell_type": "code",
   "execution_count": 3,
   "id": "2e98de8d",
   "metadata": {},
   "outputs": [],
   "source": [
    "df = pd.read_csv(DATASET_PATH)"
   ]
  },
  {
   "cell_type": "code",
   "execution_count": 4,
   "id": "c8b53dae",
   "metadata": {},
   "outputs": [
    {
     "data": {
      "text/html": [
       "<div>\n",
       "<style scoped>\n",
       "    .dataframe tbody tr th:only-of-type {\n",
       "        vertical-align: middle;\n",
       "    }\n",
       "\n",
       "    .dataframe tbody tr th {\n",
       "        vertical-align: top;\n",
       "    }\n",
       "\n",
       "    .dataframe thead th {\n",
       "        text-align: right;\n",
       "    }\n",
       "</style>\n",
       "<table border=\"1\" class=\"dataframe\">\n",
       "  <thead>\n",
       "    <tr style=\"text-align: right;\">\n",
       "      <th></th>\n",
       "      <th>name</th>\n",
       "      <th>year</th>\n",
       "      <th>selling_price</th>\n",
       "      <th>km_driven</th>\n",
       "      <th>fuel</th>\n",
       "      <th>seller_type</th>\n",
       "      <th>transmission</th>\n",
       "      <th>owner</th>\n",
       "      <th>mileage</th>\n",
       "      <th>engine</th>\n",
       "      <th>max_power</th>\n",
       "      <th>torque</th>\n",
       "      <th>seats</th>\n",
       "    </tr>\n",
       "  </thead>\n",
       "  <tbody>\n",
       "    <tr>\n",
       "      <th>0</th>\n",
       "      <td>Maruti Swift Dzire VDI</td>\n",
       "      <td>2014</td>\n",
       "      <td>450000</td>\n",
       "      <td>145500</td>\n",
       "      <td>Diesel</td>\n",
       "      <td>Individual</td>\n",
       "      <td>Manual</td>\n",
       "      <td>First Owner</td>\n",
       "      <td>23.4 kmpl</td>\n",
       "      <td>1248 CC</td>\n",
       "      <td>74 bhp</td>\n",
       "      <td>190Nm@ 2000rpm</td>\n",
       "      <td>5.0</td>\n",
       "    </tr>\n",
       "    <tr>\n",
       "      <th>1</th>\n",
       "      <td>Skoda Rapid 1.5 TDI Ambition</td>\n",
       "      <td>2014</td>\n",
       "      <td>370000</td>\n",
       "      <td>120000</td>\n",
       "      <td>Diesel</td>\n",
       "      <td>Individual</td>\n",
       "      <td>Manual</td>\n",
       "      <td>Second Owner</td>\n",
       "      <td>21.14 kmpl</td>\n",
       "      <td>1498 CC</td>\n",
       "      <td>103.52 bhp</td>\n",
       "      <td>250Nm@ 1500-2500rpm</td>\n",
       "      <td>5.0</td>\n",
       "    </tr>\n",
       "    <tr>\n",
       "      <th>2</th>\n",
       "      <td>Hyundai i20 Sportz Diesel</td>\n",
       "      <td>2010</td>\n",
       "      <td>225000</td>\n",
       "      <td>127000</td>\n",
       "      <td>Diesel</td>\n",
       "      <td>Individual</td>\n",
       "      <td>Manual</td>\n",
       "      <td>First Owner</td>\n",
       "      <td>23.0 kmpl</td>\n",
       "      <td>1396 CC</td>\n",
       "      <td>90 bhp</td>\n",
       "      <td>22.4 kgm at 1750-2750rpm</td>\n",
       "      <td>5.0</td>\n",
       "    </tr>\n",
       "    <tr>\n",
       "      <th>3</th>\n",
       "      <td>Maruti Swift VXI BSIII</td>\n",
       "      <td>2007</td>\n",
       "      <td>130000</td>\n",
       "      <td>120000</td>\n",
       "      <td>Petrol</td>\n",
       "      <td>Individual</td>\n",
       "      <td>Manual</td>\n",
       "      <td>First Owner</td>\n",
       "      <td>16.1 kmpl</td>\n",
       "      <td>1298 CC</td>\n",
       "      <td>88.2 bhp</td>\n",
       "      <td>11.5@ 4,500(kgm@ rpm)</td>\n",
       "      <td>5.0</td>\n",
       "    </tr>\n",
       "    <tr>\n",
       "      <th>4</th>\n",
       "      <td>Hyundai Xcent 1.2 VTVT E Plus</td>\n",
       "      <td>2017</td>\n",
       "      <td>440000</td>\n",
       "      <td>45000</td>\n",
       "      <td>Petrol</td>\n",
       "      <td>Individual</td>\n",
       "      <td>Manual</td>\n",
       "      <td>First Owner</td>\n",
       "      <td>20.14 kmpl</td>\n",
       "      <td>1197 CC</td>\n",
       "      <td>81.86 bhp</td>\n",
       "      <td>113.75nm@ 4000rpm</td>\n",
       "      <td>5.0</td>\n",
       "    </tr>\n",
       "  </tbody>\n",
       "</table>\n",
       "</div>"
      ],
      "text/plain": [
       "                            name  year  selling_price  km_driven    fuel  \\\n",
       "0         Maruti Swift Dzire VDI  2014         450000     145500  Diesel   \n",
       "1   Skoda Rapid 1.5 TDI Ambition  2014         370000     120000  Diesel   \n",
       "2      Hyundai i20 Sportz Diesel  2010         225000     127000  Diesel   \n",
       "3         Maruti Swift VXI BSIII  2007         130000     120000  Petrol   \n",
       "4  Hyundai Xcent 1.2 VTVT E Plus  2017         440000      45000  Petrol   \n",
       "\n",
       "  seller_type transmission         owner     mileage   engine   max_power  \\\n",
       "0  Individual       Manual   First Owner   23.4 kmpl  1248 CC      74 bhp   \n",
       "1  Individual       Manual  Second Owner  21.14 kmpl  1498 CC  103.52 bhp   \n",
       "2  Individual       Manual   First Owner   23.0 kmpl  1396 CC      90 bhp   \n",
       "3  Individual       Manual   First Owner   16.1 kmpl  1298 CC    88.2 bhp   \n",
       "4  Individual       Manual   First Owner  20.14 kmpl  1197 CC   81.86 bhp   \n",
       "\n",
       "                     torque  seats  \n",
       "0            190Nm@ 2000rpm    5.0  \n",
       "1       250Nm@ 1500-2500rpm    5.0  \n",
       "2  22.4 kgm at 1750-2750rpm    5.0  \n",
       "3     11.5@ 4,500(kgm@ rpm)    5.0  \n",
       "4         113.75nm@ 4000rpm    5.0  "
      ]
     },
     "execution_count": 4,
     "metadata": {},
     "output_type": "execute_result"
    }
   ],
   "source": [
    "df.head()"
   ]
  },
  {
   "cell_type": "code",
   "execution_count": 5,
   "id": "aff026d3",
   "metadata": {},
   "outputs": [
    {
     "name": "stdout",
     "output_type": "stream",
     "text": [
      "<class 'pandas.core.frame.DataFrame'>\n",
      "RangeIndex: 6999 entries, 0 to 6998\n",
      "Data columns (total 13 columns):\n",
      " #   Column         Non-Null Count  Dtype  \n",
      "---  ------         --------------  -----  \n",
      " 0   name           6999 non-null   object \n",
      " 1   year           6999 non-null   int64  \n",
      " 2   selling_price  6999 non-null   int64  \n",
      " 3   km_driven      6999 non-null   int64  \n",
      " 4   fuel           6999 non-null   object \n",
      " 5   seller_type    6999 non-null   object \n",
      " 6   transmission   6999 non-null   object \n",
      " 7   owner          6999 non-null   object \n",
      " 8   mileage        6797 non-null   object \n",
      " 9   engine         6797 non-null   object \n",
      " 10  max_power      6803 non-null   object \n",
      " 11  torque         6796 non-null   object \n",
      " 12  seats          6797 non-null   float64\n",
      "dtypes: float64(1), int64(3), object(9)\n",
      "memory usage: 711.0+ KB\n"
     ]
    }
   ],
   "source": [
    "df.info()"
   ]
  },
  {
   "cell_type": "code",
   "execution_count": 6,
   "id": "fb39c414",
   "metadata": {},
   "outputs": [
    {
     "name": "stdout",
     "output_type": "stream",
     "text": [
      "6999\n",
      "6999\n"
     ]
    }
   ],
   "source": [
    "print(df.shape[0])\n",
    "#df = df.drop_duplicates()\n",
    "print(df.shape[0])"
   ]
  },
  {
   "cell_type": "code",
   "execution_count": 7,
   "id": "daa6d677",
   "metadata": {},
   "outputs": [
    {
     "data": {
      "text/html": [
       "<div>\n",
       "<style scoped>\n",
       "    .dataframe tbody tr th:only-of-type {\n",
       "        vertical-align: middle;\n",
       "    }\n",
       "\n",
       "    .dataframe tbody tr th {\n",
       "        vertical-align: top;\n",
       "    }\n",
       "\n",
       "    .dataframe thead th {\n",
       "        text-align: right;\n",
       "    }\n",
       "</style>\n",
       "<table border=\"1\" class=\"dataframe\">\n",
       "  <thead>\n",
       "    <tr style=\"text-align: right;\">\n",
       "      <th></th>\n",
       "      <th>year</th>\n",
       "      <th>selling_price</th>\n",
       "      <th>km_driven</th>\n",
       "      <th>seats</th>\n",
       "    </tr>\n",
       "  </thead>\n",
       "  <tbody>\n",
       "    <tr>\n",
       "      <th>count</th>\n",
       "      <td>6999.000000</td>\n",
       "      <td>6.999000e+03</td>\n",
       "      <td>6.999000e+03</td>\n",
       "      <td>6797.000000</td>\n",
       "    </tr>\n",
       "    <tr>\n",
       "      <th>mean</th>\n",
       "      <td>2013.818403</td>\n",
       "      <td>6.395152e+05</td>\n",
       "      <td>6.958462e+04</td>\n",
       "      <td>5.419008</td>\n",
       "    </tr>\n",
       "    <tr>\n",
       "      <th>std</th>\n",
       "      <td>4.053095</td>\n",
       "      <td>8.089419e+05</td>\n",
       "      <td>5.772400e+04</td>\n",
       "      <td>0.965767</td>\n",
       "    </tr>\n",
       "    <tr>\n",
       "      <th>min</th>\n",
       "      <td>1983.000000</td>\n",
       "      <td>2.999900e+04</td>\n",
       "      <td>1.000000e+00</td>\n",
       "      <td>2.000000</td>\n",
       "    </tr>\n",
       "    <tr>\n",
       "      <th>25%</th>\n",
       "      <td>2011.000000</td>\n",
       "      <td>2.549990e+05</td>\n",
       "      <td>3.500000e+04</td>\n",
       "      <td>5.000000</td>\n",
       "    </tr>\n",
       "    <tr>\n",
       "      <th>50%</th>\n",
       "      <td>2015.000000</td>\n",
       "      <td>4.500000e+05</td>\n",
       "      <td>6.000000e+04</td>\n",
       "      <td>5.000000</td>\n",
       "    </tr>\n",
       "    <tr>\n",
       "      <th>75%</th>\n",
       "      <td>2017.000000</td>\n",
       "      <td>6.750000e+05</td>\n",
       "      <td>9.700000e+04</td>\n",
       "      <td>5.000000</td>\n",
       "    </tr>\n",
       "    <tr>\n",
       "      <th>max</th>\n",
       "      <td>2020.000000</td>\n",
       "      <td>1.000000e+07</td>\n",
       "      <td>2.360457e+06</td>\n",
       "      <td>14.000000</td>\n",
       "    </tr>\n",
       "  </tbody>\n",
       "</table>\n",
       "</div>"
      ],
      "text/plain": [
       "              year  selling_price     km_driven        seats\n",
       "count  6999.000000   6.999000e+03  6.999000e+03  6797.000000\n",
       "mean   2013.818403   6.395152e+05  6.958462e+04     5.419008\n",
       "std       4.053095   8.089419e+05  5.772400e+04     0.965767\n",
       "min    1983.000000   2.999900e+04  1.000000e+00     2.000000\n",
       "25%    2011.000000   2.549990e+05  3.500000e+04     5.000000\n",
       "50%    2015.000000   4.500000e+05  6.000000e+04     5.000000\n",
       "75%    2017.000000   6.750000e+05  9.700000e+04     5.000000\n",
       "max    2020.000000   1.000000e+07  2.360457e+06    14.000000"
      ]
     },
     "execution_count": 7,
     "metadata": {},
     "output_type": "execute_result"
    }
   ],
   "source": [
    "df.describe()"
   ]
  },
  {
   "cell_type": "code",
   "execution_count": 8,
   "id": "b29e4fd9",
   "metadata": {},
   "outputs": [
    {
     "data": {
      "image/png": "[encoded data removed]",
      "text/plain": [
       "<Figure size 432x288 with 1 Axes>"
      ]
     },
     "metadata": {
      "needs_background": "light"
     },
     "output_type": "display_data"
    }
   ],
   "source": [
    "sns.histplot(df['year'], kde=True)\n",
    "plt.show()"
   ]
  },
  {
   "cell_type": "code",
   "execution_count": 9,
   "id": "bd08df57",
   "metadata": {},
   "outputs": [
    {
     "data": {
      "image/png": "[encoded data removed]",
      "text/plain": [
       "<Figure size 432x288 with 1 Axes>"
      ]
     },
     "metadata": {
      "needs_background": "light"
     },
     "output_type": "display_data"
    }
   ],
   "source": [
    "sns.histplot(df['selling_price'], kde=True)\n",
    "plt.show()"
   ]
  },
  {
   "cell_type": "code",
   "execution_count": 10,
   "id": "271f9542",
   "metadata": {},
   "outputs": [
    {
     "data": {
      "text/html": [
       "<div>\n",
       "<style scoped>\n",
       "    .dataframe tbody tr th:only-of-type {\n",
       "        vertical-align: middle;\n",
       "    }\n",
       "\n",
       "    .dataframe tbody tr th {\n",
       "        vertical-align: top;\n",
       "    }\n",
       "\n",
       "    .dataframe thead th {\n",
       "        text-align: right;\n",
       "    }\n",
       "</style>\n",
       "<table border=\"1\" class=\"dataframe\">\n",
       "  <thead>\n",
       "    <tr style=\"text-align: right;\">\n",
       "      <th></th>\n",
       "      <th>name</th>\n",
       "      <th>year</th>\n",
       "      <th>selling_price</th>\n",
       "      <th>km_driven</th>\n",
       "      <th>fuel</th>\n",
       "      <th>seller_type</th>\n",
       "      <th>transmission</th>\n",
       "      <th>owner</th>\n",
       "      <th>mileage</th>\n",
       "      <th>engine</th>\n",
       "      <th>max_power</th>\n",
       "      <th>torque</th>\n",
       "      <th>seats</th>\n",
       "    </tr>\n",
       "  </thead>\n",
       "  <tbody>\n",
       "    <tr>\n",
       "      <th>4890</th>\n",
       "      <td>Maruti 800 AC</td>\n",
       "      <td>1997</td>\n",
       "      <td>29999</td>\n",
       "      <td>80000</td>\n",
       "      <td>Petrol</td>\n",
       "      <td>Individual</td>\n",
       "      <td>Manual</td>\n",
       "      <td>Third Owner</td>\n",
       "      <td>16.1 kmpl</td>\n",
       "      <td>796 CC</td>\n",
       "      <td>37 bhp</td>\n",
       "      <td>59Nm@ 2500rpm</td>\n",
       "      <td>4.0</td>\n",
       "    </tr>\n",
       "  </tbody>\n",
       "</table>\n",
       "</div>"
      ],
      "text/plain": [
       "               name  year  selling_price  km_driven    fuel seller_type  \\\n",
       "4890  Maruti 800 AC  1997          29999      80000  Petrol  Individual   \n",
       "\n",
       "     transmission        owner    mileage  engine max_power         torque  \\\n",
       "4890       Manual  Third Owner  16.1 kmpl  796 CC    37 bhp  59Nm@ 2500rpm   \n",
       "\n",
       "      seats  \n",
       "4890    4.0  "
      ]
     },
     "execution_count": 10,
     "metadata": {},
     "output_type": "execute_result"
    }
   ],
   "source": [
    "df[(df['selling_price'] < 30000)].head()"
   ]
  },
  {
   "cell_type": "code",
   "execution_count": 11,
   "id": "acb0f06f",
   "metadata": {},
   "outputs": [
    {
     "data": {
      "text/html": [
       "<div>\n",
       "<style scoped>\n",
       "    .dataframe tbody tr th:only-of-type {\n",
       "        vertical-align: middle;\n",
       "    }\n",
       "\n",
       "    .dataframe tbody tr th {\n",
       "        vertical-align: top;\n",
       "    }\n",
       "\n",
       "    .dataframe thead th {\n",
       "        text-align: right;\n",
       "    }\n",
       "</style>\n",
       "<table border=\"1\" class=\"dataframe\">\n",
       "  <thead>\n",
       "    <tr style=\"text-align: right;\">\n",
       "      <th></th>\n",
       "      <th>name</th>\n",
       "      <th>year</th>\n",
       "      <th>selling_price</th>\n",
       "      <th>km_driven</th>\n",
       "      <th>fuel</th>\n",
       "      <th>seller_type</th>\n",
       "      <th>transmission</th>\n",
       "      <th>owner</th>\n",
       "      <th>mileage</th>\n",
       "      <th>engine</th>\n",
       "      <th>max_power</th>\n",
       "      <th>torque</th>\n",
       "      <th>seats</th>\n",
       "    </tr>\n",
       "  </thead>\n",
       "  <tbody>\n",
       "    <tr>\n",
       "      <th>151</th>\n",
       "      <td>Volvo XC90 T8 Excellence BSIV</td>\n",
       "      <td>2017</td>\n",
       "      <td>10000000</td>\n",
       "      <td>30000</td>\n",
       "      <td>Petrol</td>\n",
       "      <td>Individual</td>\n",
       "      <td>Automatic</td>\n",
       "      <td>First Owner</td>\n",
       "      <td>42.0 kmpl</td>\n",
       "      <td>1969 CC</td>\n",
       "      <td>400 bhp</td>\n",
       "      <td>640Nm@ 1740rpm</td>\n",
       "      <td>4.0</td>\n",
       "    </tr>\n",
       "    <tr>\n",
       "      <th>2532</th>\n",
       "      <td>BMW X7 xDrive 30d DPE</td>\n",
       "      <td>2020</td>\n",
       "      <td>7200000</td>\n",
       "      <td>5000</td>\n",
       "      <td>Diesel</td>\n",
       "      <td>Individual</td>\n",
       "      <td>Automatic</td>\n",
       "      <td>First Owner</td>\n",
       "      <td>13.38 kmpl</td>\n",
       "      <td>2993 CC</td>\n",
       "      <td>265 bhp</td>\n",
       "      <td>620Nm@ 1500-2500rpm</td>\n",
       "      <td>7.0</td>\n",
       "    </tr>\n",
       "    <tr>\n",
       "      <th>4230</th>\n",
       "      <td>Audi A6 35 TFSI Matrix</td>\n",
       "      <td>2019</td>\n",
       "      <td>6223000</td>\n",
       "      <td>7800</td>\n",
       "      <td>Petrol</td>\n",
       "      <td>Dealer</td>\n",
       "      <td>Automatic</td>\n",
       "      <td>Test Drive Car</td>\n",
       "      <td>15.26 kmpl</td>\n",
       "      <td>1798 CC</td>\n",
       "      <td>187.74 bhp</td>\n",
       "      <td>320Nm@ 1400-4100rpm</td>\n",
       "      <td>5.0</td>\n",
       "    </tr>\n",
       "    <tr>\n",
       "      <th>4232</th>\n",
       "      <td>Audi A6 35 TFSI Matrix</td>\n",
       "      <td>2019</td>\n",
       "      <td>6523000</td>\n",
       "      <td>23600</td>\n",
       "      <td>Petrol</td>\n",
       "      <td>Dealer</td>\n",
       "      <td>Automatic</td>\n",
       "      <td>Test Drive Car</td>\n",
       "      <td>15.26 kmpl</td>\n",
       "      <td>1798 CC</td>\n",
       "      <td>187.74 bhp</td>\n",
       "      <td>320Nm@ 1400-4100rpm</td>\n",
       "      <td>5.0</td>\n",
       "    </tr>\n",
       "  </tbody>\n",
       "</table>\n",
       "</div>"
      ],
      "text/plain": [
       "                               name  year  selling_price  km_driven    fuel  \\\n",
       "151   Volvo XC90 T8 Excellence BSIV  2017       10000000      30000  Petrol   \n",
       "2532          BMW X7 xDrive 30d DPE  2020        7200000       5000  Diesel   \n",
       "4230         Audi A6 35 TFSI Matrix  2019        6223000       7800  Petrol   \n",
       "4232         Audi A6 35 TFSI Matrix  2019        6523000      23600  Petrol   \n",
       "\n",
       "     seller_type transmission           owner     mileage   engine  \\\n",
       "151   Individual    Automatic     First Owner   42.0 kmpl  1969 CC   \n",
       "2532  Individual    Automatic     First Owner  13.38 kmpl  2993 CC   \n",
       "4230      Dealer    Automatic  Test Drive Car  15.26 kmpl  1798 CC   \n",
       "4232      Dealer    Automatic  Test Drive Car  15.26 kmpl  1798 CC   \n",
       "\n",
       "       max_power               torque  seats  \n",
       "151      400 bhp       640Nm@ 1740rpm    4.0  \n",
       "2532     265 bhp  620Nm@ 1500-2500rpm    7.0  \n",
       "4230  187.74 bhp  320Nm@ 1400-4100rpm    5.0  \n",
       "4232  187.74 bhp  320Nm@ 1400-4100rpm    5.0  "
      ]
     },
     "execution_count": 11,
     "metadata": {},
     "output_type": "execute_result"
    }
   ],
   "source": [
    "df[(df['selling_price'] > 6000000)].head(10)"
   ]
  },
  {
   "cell_type": "code",
   "execution_count": 12,
   "id": "013fe805",
   "metadata": {},
   "outputs": [],
   "source": [
    "#df = df[(df['selling_price'] < 6000000)]"
   ]
  },
  {
   "cell_type": "code",
   "execution_count": 13,
   "id": "b6027274",
   "metadata": {},
   "outputs": [
    {
     "data": {
      "image/png": "[encoded data removed]",
      "text/plain": [
       "<Figure size 432x288 with 1 Axes>"
      ]
     },
     "metadata": {
      "needs_background": "light"
     },
     "output_type": "display_data"
    }
   ],
   "source": [
    "sns.boxplot(df['km_driven'])\n",
    "plt.show()"
   ]
  },
  {
   "cell_type": "code",
   "execution_count": 14,
   "id": "09625608",
   "metadata": {},
   "outputs": [
    {
     "data": {
      "text/html": [
       "<div>\n",
       "<style scoped>\n",
       "    .dataframe tbody tr th:only-of-type {\n",
       "        vertical-align: middle;\n",
       "    }\n",
       "\n",
       "    .dataframe tbody tr th {\n",
       "        vertical-align: top;\n",
       "    }\n",
       "\n",
       "    .dataframe thead th {\n",
       "        text-align: right;\n",
       "    }\n",
       "</style>\n",
       "<table border=\"1\" class=\"dataframe\">\n",
       "  <thead>\n",
       "    <tr style=\"text-align: right;\">\n",
       "      <th></th>\n",
       "      <th>name</th>\n",
       "      <th>year</th>\n",
       "      <th>selling_price</th>\n",
       "      <th>km_driven</th>\n",
       "      <th>fuel</th>\n",
       "      <th>seller_type</th>\n",
       "      <th>transmission</th>\n",
       "      <th>owner</th>\n",
       "      <th>mileage</th>\n",
       "      <th>engine</th>\n",
       "      <th>max_power</th>\n",
       "      <th>torque</th>\n",
       "      <th>seats</th>\n",
       "    </tr>\n",
       "  </thead>\n",
       "  <tbody>\n",
       "    <tr>\n",
       "      <th>1551</th>\n",
       "      <td>Mahindra XUV500 W6 2WD</td>\n",
       "      <td>2012</td>\n",
       "      <td>500000</td>\n",
       "      <td>1500000</td>\n",
       "      <td>Diesel</td>\n",
       "      <td>Individual</td>\n",
       "      <td>Manual</td>\n",
       "      <td>First Owner</td>\n",
       "      <td>15.1 kmpl</td>\n",
       "      <td>2179 CC</td>\n",
       "      <td>140 bhp</td>\n",
       "      <td>330Nm@ 1600-2800rpm</td>\n",
       "      <td>7.0</td>\n",
       "    </tr>\n",
       "    <tr>\n",
       "      <th>3003</th>\n",
       "      <td>Hyundai i20 Asta 1.2</td>\n",
       "      <td>2007</td>\n",
       "      <td>550000</td>\n",
       "      <td>2360457</td>\n",
       "      <td>Petrol</td>\n",
       "      <td>Individual</td>\n",
       "      <td>Manual</td>\n",
       "      <td>Second Owner</td>\n",
       "      <td>18.6 kmpl</td>\n",
       "      <td>1197 CC</td>\n",
       "      <td>81.83 bhp</td>\n",
       "      <td>114.7Nm@ 4000rpm</td>\n",
       "      <td>5.0</td>\n",
       "    </tr>\n",
       "    <tr>\n",
       "      <th>3023</th>\n",
       "      <td>Maruti Wagon R LXI Minor</td>\n",
       "      <td>2010</td>\n",
       "      <td>194000</td>\n",
       "      <td>577414</td>\n",
       "      <td>Petrol</td>\n",
       "      <td>Individual</td>\n",
       "      <td>Manual</td>\n",
       "      <td>Second Owner</td>\n",
       "      <td>18.9 kmpl</td>\n",
       "      <td>1061 CC</td>\n",
       "      <td>67 bhp</td>\n",
       "      <td>84Nm@ 3500rpm</td>\n",
       "      <td>5.0</td>\n",
       "    </tr>\n",
       "    <tr>\n",
       "      <th>3137</th>\n",
       "      <td>Maruti Wagon R VXI BS IV</td>\n",
       "      <td>2011</td>\n",
       "      <td>229999</td>\n",
       "      <td>500000</td>\n",
       "      <td>Petrol</td>\n",
       "      <td>Individual</td>\n",
       "      <td>Manual</td>\n",
       "      <td>Second Owner</td>\n",
       "      <td>18.9 kmpl</td>\n",
       "      <td>998 CC</td>\n",
       "      <td>67.1 bhp</td>\n",
       "      <td>90Nm@ 3500rpm</td>\n",
       "      <td>5.0</td>\n",
       "    </tr>\n",
       "    <tr>\n",
       "      <th>4366</th>\n",
       "      <td>Mahindra Scorpio M2DI</td>\n",
       "      <td>2011</td>\n",
       "      <td>400000</td>\n",
       "      <td>475000</td>\n",
       "      <td>Diesel</td>\n",
       "      <td>Individual</td>\n",
       "      <td>Manual</td>\n",
       "      <td>Third Owner</td>\n",
       "      <td>13.5 kmpl</td>\n",
       "      <td>2179 CC</td>\n",
       "      <td>115 bhp</td>\n",
       "      <td>277.5Nm@ 1700-2200rpm</td>\n",
       "      <td>5.0</td>\n",
       "    </tr>\n",
       "    <tr>\n",
       "      <th>4434</th>\n",
       "      <td>Toyota Innova 2.5 VX (Diesel) 7 Seater</td>\n",
       "      <td>2013</td>\n",
       "      <td>750000</td>\n",
       "      <td>440000</td>\n",
       "      <td>Diesel</td>\n",
       "      <td>Individual</td>\n",
       "      <td>Manual</td>\n",
       "      <td>Second Owner</td>\n",
       "      <td>12.99 kmpl</td>\n",
       "      <td>2494 CC</td>\n",
       "      <td>100.6 bhp</td>\n",
       "      <td>200Nm@ 1400-3400rpm</td>\n",
       "      <td>7.0</td>\n",
       "    </tr>\n",
       "    <tr>\n",
       "      <th>4681</th>\n",
       "      <td>Toyota Innova 2.5 VX (Diesel) 7 Seater BS IV</td>\n",
       "      <td>2010</td>\n",
       "      <td>950000</td>\n",
       "      <td>426000</td>\n",
       "      <td>Diesel</td>\n",
       "      <td>Individual</td>\n",
       "      <td>Manual</td>\n",
       "      <td>First Owner</td>\n",
       "      <td>12.8 kmpl</td>\n",
       "      <td>2494 CC</td>\n",
       "      <td>102 bhp</td>\n",
       "      <td>20.4@ 1400-3400(kgm@ rpm)</td>\n",
       "      <td>7.0</td>\n",
       "    </tr>\n",
       "    <tr>\n",
       "      <th>5735</th>\n",
       "      <td>Toyota Innova 2.5 EV Diesel PS 7 Seater BSIII</td>\n",
       "      <td>2011</td>\n",
       "      <td>350000</td>\n",
       "      <td>500000</td>\n",
       "      <td>Diesel</td>\n",
       "      <td>Individual</td>\n",
       "      <td>Manual</td>\n",
       "      <td>Second Owner</td>\n",
       "      <td>12.99 kmpl</td>\n",
       "      <td>2494 CC</td>\n",
       "      <td>100.57 bhp</td>\n",
       "      <td>200Nm@ 1400-3400rpm</td>\n",
       "      <td>7.0</td>\n",
       "    </tr>\n",
       "  </tbody>\n",
       "</table>\n",
       "</div>"
      ],
      "text/plain": [
       "                                               name  year  selling_price  \\\n",
       "1551                         Mahindra XUV500 W6 2WD  2012         500000   \n",
       "3003                           Hyundai i20 Asta 1.2  2007         550000   \n",
       "3023                       Maruti Wagon R LXI Minor  2010         194000   \n",
       "3137                       Maruti Wagon R VXI BS IV  2011         229999   \n",
       "4366                          Mahindra Scorpio M2DI  2011         400000   \n",
       "4434         Toyota Innova 2.5 VX (Diesel) 7 Seater  2013         750000   \n",
       "4681   Toyota Innova 2.5 VX (Diesel) 7 Seater BS IV  2010         950000   \n",
       "5735  Toyota Innova 2.5 EV Diesel PS 7 Seater BSIII  2011         350000   \n",
       "\n",
       "      km_driven    fuel seller_type transmission         owner     mileage  \\\n",
       "1551    1500000  Diesel  Individual       Manual   First Owner   15.1 kmpl   \n",
       "3003    2360457  Petrol  Individual       Manual  Second Owner   18.6 kmpl   \n",
       "3023     577414  Petrol  Individual       Manual  Second Owner   18.9 kmpl   \n",
       "3137     500000  Petrol  Individual       Manual  Second Owner   18.9 kmpl   \n",
       "4366     475000  Diesel  Individual       Manual   Third Owner   13.5 kmpl   \n",
       "4434     440000  Diesel  Individual       Manual  Second Owner  12.99 kmpl   \n",
       "4681     426000  Diesel  Individual       Manual   First Owner   12.8 kmpl   \n",
       "5735     500000  Diesel  Individual       Manual  Second Owner  12.99 kmpl   \n",
       "\n",
       "       engine   max_power                     torque  seats  \n",
       "1551  2179 CC     140 bhp        330Nm@ 1600-2800rpm    7.0  \n",
       "3003  1197 CC   81.83 bhp           114.7Nm@ 4000rpm    5.0  \n",
       "3023  1061 CC      67 bhp              84Nm@ 3500rpm    5.0  \n",
       "3137   998 CC    67.1 bhp              90Nm@ 3500rpm    5.0  \n",
       "4366  2179 CC     115 bhp      277.5Nm@ 1700-2200rpm    5.0  \n",
       "4434  2494 CC   100.6 bhp        200Nm@ 1400-3400rpm    7.0  \n",
       "4681  2494 CC     102 bhp  20.4@ 1400-3400(kgm@ rpm)    7.0  \n",
       "5735  2494 CC  100.57 bhp        200Nm@ 1400-3400rpm    7.0  "
      ]
     },
     "execution_count": 14,
     "metadata": {},
     "output_type": "execute_result"
    }
   ],
   "source": [
    "df[(df['km_driven'] > 400000)].head(10)"
   ]
  },
  {
   "cell_type": "code",
   "execution_count": 15,
   "id": "16feaf3f",
   "metadata": {},
   "outputs": [],
   "source": [
    "df = df[(df['km_driven'] <= 1000000)]"
   ]
  },
  {
   "cell_type": "code",
   "execution_count": 16,
   "id": "cc7cbd5b",
   "metadata": {},
   "outputs": [
    {
     "data": {
      "text/html": [
       "<div>\n",
       "<style scoped>\n",
       "    .dataframe tbody tr th:only-of-type {\n",
       "        vertical-align: middle;\n",
       "    }\n",
       "\n",
       "    .dataframe tbody tr th {\n",
       "        vertical-align: top;\n",
       "    }\n",
       "\n",
       "    .dataframe thead th {\n",
       "        text-align: right;\n",
       "    }\n",
       "</style>\n",
       "<table border=\"1\" class=\"dataframe\">\n",
       "  <thead>\n",
       "    <tr style=\"text-align: right;\">\n",
       "      <th></th>\n",
       "      <th>name</th>\n",
       "      <th>fuel</th>\n",
       "      <th>seller_type</th>\n",
       "      <th>transmission</th>\n",
       "      <th>owner</th>\n",
       "      <th>mileage</th>\n",
       "      <th>engine</th>\n",
       "      <th>max_power</th>\n",
       "      <th>torque</th>\n",
       "    </tr>\n",
       "  </thead>\n",
       "  <tbody>\n",
       "    <tr>\n",
       "      <th>count</th>\n",
       "      <td>6997</td>\n",
       "      <td>6997</td>\n",
       "      <td>6997</td>\n",
       "      <td>6997</td>\n",
       "      <td>6997</td>\n",
       "      <td>6795</td>\n",
       "      <td>6795</td>\n",
       "      <td>6801</td>\n",
       "      <td>6794</td>\n",
       "    </tr>\n",
       "    <tr>\n",
       "      <th>unique</th>\n",
       "      <td>1924</td>\n",
       "      <td>4</td>\n",
       "      <td>3</td>\n",
       "      <td>2</td>\n",
       "      <td>5</td>\n",
       "      <td>386</td>\n",
       "      <td>120</td>\n",
       "      <td>316</td>\n",
       "      <td>419</td>\n",
       "    </tr>\n",
       "    <tr>\n",
       "      <th>top</th>\n",
       "      <td>Maruti Swift Dzire VDI</td>\n",
       "      <td>Diesel</td>\n",
       "      <td>Individual</td>\n",
       "      <td>Manual</td>\n",
       "      <td>First Owner</td>\n",
       "      <td>18.9 kmpl</td>\n",
       "      <td>1248 CC</td>\n",
       "      <td>74 bhp</td>\n",
       "      <td>190Nm@ 2000rpm</td>\n",
       "    </tr>\n",
       "    <tr>\n",
       "      <th>freq</th>\n",
       "      <td>116</td>\n",
       "      <td>3792</td>\n",
       "      <td>5824</td>\n",
       "      <td>6093</td>\n",
       "      <td>4586</td>\n",
       "      <td>197</td>\n",
       "      <td>885</td>\n",
       "      <td>330</td>\n",
       "      <td>468</td>\n",
       "    </tr>\n",
       "  </tbody>\n",
       "</table>\n",
       "</div>"
      ],
      "text/plain": [
       "                          name    fuel seller_type transmission        owner  \\\n",
       "count                     6997    6997        6997         6997         6997   \n",
       "unique                    1924       4           3            2            5   \n",
       "top     Maruti Swift Dzire VDI  Diesel  Individual       Manual  First Owner   \n",
       "freq                       116    3792        5824         6093         4586   \n",
       "\n",
       "          mileage   engine max_power          torque  \n",
       "count        6795     6795      6801            6794  \n",
       "unique        386      120       316             419  \n",
       "top     18.9 kmpl  1248 CC    74 bhp  190Nm@ 2000rpm  \n",
       "freq          197      885       330             468  "
      ]
     },
     "execution_count": 16,
     "metadata": {},
     "output_type": "execute_result"
    }
   ],
   "source": [
    "df.describe(include='object')"
   ]
  },
  {
   "cell_type": "code",
   "execution_count": 17,
   "id": "d0266357",
   "metadata": {},
   "outputs": [],
   "source": [
    "# df['name'].value_counts()\n",
    "# df['name'].value_counts().index[0]\n",
    "# df = df.apply(lambda x:x.fillna(x.value_counts().index[0]))\n",
    "\n",
    "df = df.dropna()"
   ]
  },
  {
   "cell_type": "code",
   "execution_count": 18,
   "id": "50b4416d",
   "metadata": {},
   "outputs": [
    {
     "data": {
      "text/html": [
       "<div>\n",
       "<style scoped>\n",
       "    .dataframe tbody tr th:only-of-type {\n",
       "        vertical-align: middle;\n",
       "    }\n",
       "\n",
       "    .dataframe tbody tr th {\n",
       "        vertical-align: top;\n",
       "    }\n",
       "\n",
       "    .dataframe thead th {\n",
       "        text-align: right;\n",
       "    }\n",
       "</style>\n",
       "<table border=\"1\" class=\"dataframe\">\n",
       "  <thead>\n",
       "    <tr style=\"text-align: right;\">\n",
       "      <th></th>\n",
       "      <th>name</th>\n",
       "      <th>fuel</th>\n",
       "      <th>seller_type</th>\n",
       "      <th>transmission</th>\n",
       "      <th>owner</th>\n",
       "      <th>mileage</th>\n",
       "      <th>engine</th>\n",
       "      <th>max_power</th>\n",
       "      <th>torque</th>\n",
       "    </tr>\n",
       "  </thead>\n",
       "  <tbody>\n",
       "    <tr>\n",
       "      <th>count</th>\n",
       "      <td>6794</td>\n",
       "      <td>6794</td>\n",
       "      <td>6794</td>\n",
       "      <td>6794</td>\n",
       "      <td>6794</td>\n",
       "      <td>6794</td>\n",
       "      <td>6794</td>\n",
       "      <td>6794</td>\n",
       "      <td>6794</td>\n",
       "    </tr>\n",
       "    <tr>\n",
       "      <th>unique</th>\n",
       "      <td>1852</td>\n",
       "      <td>4</td>\n",
       "      <td>3</td>\n",
       "      <td>2</td>\n",
       "      <td>5</td>\n",
       "      <td>386</td>\n",
       "      <td>120</td>\n",
       "      <td>314</td>\n",
       "      <td>419</td>\n",
       "    </tr>\n",
       "    <tr>\n",
       "      <th>top</th>\n",
       "      <td>Maruti Swift Dzire VDI</td>\n",
       "      <td>Diesel</td>\n",
       "      <td>Individual</td>\n",
       "      <td>Manual</td>\n",
       "      <td>First Owner</td>\n",
       "      <td>18.9 kmpl</td>\n",
       "      <td>1248 CC</td>\n",
       "      <td>74 bhp</td>\n",
       "      <td>190Nm@ 2000rpm</td>\n",
       "    </tr>\n",
       "    <tr>\n",
       "      <th>freq</th>\n",
       "      <td>116</td>\n",
       "      <td>3695</td>\n",
       "      <td>5638</td>\n",
       "      <td>5898</td>\n",
       "      <td>4517</td>\n",
       "      <td>197</td>\n",
       "      <td>885</td>\n",
       "      <td>330</td>\n",
       "      <td>468</td>\n",
       "    </tr>\n",
       "  </tbody>\n",
       "</table>\n",
       "</div>"
      ],
      "text/plain": [
       "                          name    fuel seller_type transmission        owner  \\\n",
       "count                     6794    6794        6794         6794         6794   \n",
       "unique                    1852       4           3            2            5   \n",
       "top     Maruti Swift Dzire VDI  Diesel  Individual       Manual  First Owner   \n",
       "freq                       116    3695        5638         5898         4517   \n",
       "\n",
       "          mileage   engine max_power          torque  \n",
       "count        6794     6794      6794            6794  \n",
       "unique        386      120       314             419  \n",
       "top     18.9 kmpl  1248 CC    74 bhp  190Nm@ 2000rpm  \n",
       "freq          197      885       330             468  "
      ]
     },
     "execution_count": 18,
     "metadata": {},
     "output_type": "execute_result"
    }
   ],
   "source": [
    "df.describe(include='object')"
   ]
  },
  {
   "cell_type": "code",
   "execution_count": 19,
   "id": "2ac28cf3",
   "metadata": {},
   "outputs": [
    {
     "data": {
      "text/plain": [
       "First Owner             4517\n",
       "Second Owner            1710\n",
       "Third Owner              433\n",
       "Fourth & Above Owner     130\n",
       "Test Drive Car             4\n",
       "Name: owner, dtype: int64"
      ]
     },
     "execution_count": 19,
     "metadata": {},
     "output_type": "execute_result"
    }
   ],
   "source": [
    "df['owner'].value_counts()"
   ]
  },
  {
   "cell_type": "code",
   "execution_count": 20,
   "id": "6ae367c7",
   "metadata": {},
   "outputs": [],
   "source": [
    "df['owner'] = df['owner'].map({'First Owner' : 1, 'Second Owner' : 2, 'Third Owner': 3, 'Fourth & Above Owner': 4, \n",
    "                               'Test Drive Car': 0})"
   ]
  },
  {
   "cell_type": "code",
   "execution_count": 21,
   "id": "ee4149b6",
   "metadata": {},
   "outputs": [
    {
     "data": {
      "text/plain": [
       "Manual       5898\n",
       "Automatic     896\n",
       "Name: transmission, dtype: int64"
      ]
     },
     "execution_count": 21,
     "metadata": {},
     "output_type": "execute_result"
    }
   ],
   "source": [
    "df['transmission'].value_counts()"
   ]
  },
  {
   "cell_type": "code",
   "execution_count": 22,
   "id": "502d86e9",
   "metadata": {},
   "outputs": [],
   "source": [
    "df['transmission'] = df['transmission'].map({'Manual' : 1, 'Automatic' : 0})"
   ]
  },
  {
   "cell_type": "code",
   "execution_count": 23,
   "id": "17d5da4c",
   "metadata": {},
   "outputs": [
    {
     "data": {
      "text/plain": [
       "Individual          5638\n",
       "Dealer               950\n",
       "Trustmark Dealer     206\n",
       "Name: seller_type, dtype: int64"
      ]
     },
     "execution_count": 23,
     "metadata": {},
     "output_type": "execute_result"
    }
   ],
   "source": [
    "df['seller_type'].value_counts()"
   ]
  },
  {
   "cell_type": "code",
   "execution_count": 24,
   "id": "6558481a",
   "metadata": {},
   "outputs": [
    {
     "data": {
      "text/plain": [
       "1248 CC    885\n",
       "1197 CC    714\n",
       "998 CC     393\n",
       "796 CC     374\n",
       "2179 CC    329\n",
       "          ... \n",
       "1489 CC      1\n",
       "1422 CC      1\n",
       "1339 CC      1\n",
       "2496 CC      1\n",
       "1950 CC      1\n",
       "Name: engine, Length: 120, dtype: int64"
      ]
     },
     "execution_count": 24,
     "metadata": {},
     "output_type": "execute_result"
    }
   ],
   "source": [
    "df['engine'].value_counts()"
   ]
  },
  {
   "cell_type": "code",
   "execution_count": 25,
   "id": "0bdc5d29",
   "metadata": {},
   "outputs": [
    {
     "data": {
      "text/plain": [
       "190Nm@ 2000rpm         468\n",
       "200Nm@ 1750rpm         381\n",
       "90Nm@ 3500rpm          350\n",
       "113Nm@ 4200rpm         196\n",
       "114Nm@ 4000rpm         151\n",
       "                      ... \n",
       "250 Nm at 2750 rpm       1\n",
       "170Nm@ 4200rpm           1\n",
       "136.3Nm@ 4200rpm         1\n",
       "11@ 3,000(kgm@ rpm)      1\n",
       "250Nm@ 1250-5000rpm      1\n",
       "Name: torque, Length: 419, dtype: int64"
      ]
     },
     "execution_count": 25,
     "metadata": {},
     "output_type": "execute_result"
    }
   ],
   "source": [
    "df['torque'].value_counts()"
   ]
  },
  {
   "cell_type": "code",
   "execution_count": 26,
   "id": "09a1a00f",
   "metadata": {},
   "outputs": [],
   "source": [
    "df.drop(['seller_type', 'engine', 'torque'], axis=1, inplace=True)"
   ]
  },
  {
   "cell_type": "code",
   "execution_count": 27,
   "id": "6e1c3567",
   "metadata": {},
   "outputs": [
    {
     "data": {
      "text/plain": [
       "Maruti Swift Dzire VDI                          116\n",
       "Maruti Alto 800 LXI                              66\n",
       "Maruti Alto LXi                                  61\n",
       "BMW X4 M Sport X xDrive20d                       54\n",
       "Maruti Swift VDI                                 51\n",
       "                                               ... \n",
       "Nissan Micra Active XV                            1\n",
       "Maruti Wagon R AX BSIV                            1\n",
       "Renault Koleos 2.0 Diesel                         1\n",
       "Hyundai Grand i10 Magna AT                        1\n",
       "Toyota Innova 2.5 GX (Diesel) 8 Seater BS IV      1\n",
       "Name: name, Length: 1852, dtype: int64"
      ]
     },
     "execution_count": 27,
     "metadata": {},
     "output_type": "execute_result"
    }
   ],
   "source": [
    "df['name'].value_counts()"
   ]
  },
  {
   "cell_type": "code",
   "execution_count": 28,
   "id": "d5a08af1",
   "metadata": {},
   "outputs": [],
   "source": [
    "def firstWord(x: str):\n",
    "    return x.split()[0]"
   ]
  },
  {
   "cell_type": "code",
   "execution_count": 29,
   "id": "a039ffc5",
   "metadata": {},
   "outputs": [],
   "source": [
    "df['name'] = df['name'].map(firstWord)"
   ]
  },
  {
   "cell_type": "code",
   "execution_count": 30,
   "id": "da3384bc",
   "metadata": {},
   "outputs": [
    {
     "data": {
      "text/plain": [
       "Maruti           2048\n",
       "Hyundai          1150\n",
       "Mahindra          652\n",
       "Tata              598\n",
       "Honda             403\n",
       "Toyota            394\n",
       "Ford              330\n",
       "Chevrolet         204\n",
       "Renault           196\n",
       "Volkswagen        166\n",
       "BMW               101\n",
       "Skoda              89\n",
       "Nissan             70\n",
       "Jaguar             61\n",
       "Datsun             56\n",
       "Volvo              55\n",
       "Mercedes-Benz      49\n",
       "Audi               38\n",
       "Fiat               36\n",
       "Lexus              30\n",
       "Jeep               28\n",
       "Mitsubishi         10\n",
       "Land                6\n",
       "Force               6\n",
       "Isuzu               5\n",
       "Kia                 4\n",
       "MG                  3\n",
       "Daewoo              3\n",
       "Ambassador          3\n",
       "Name: name, dtype: int64"
      ]
     },
     "execution_count": 30,
     "metadata": {},
     "output_type": "execute_result"
    }
   ],
   "source": [
    "df['name'].value_counts()"
   ]
  },
  {
   "cell_type": "code",
   "execution_count": 31,
   "id": "be6d674b",
   "metadata": {},
   "outputs": [
    {
     "data": {
      "text/plain": [
       "Diesel    3695\n",
       "Petrol    3021\n",
       "CNG         47\n",
       "LPG         31\n",
       "Name: fuel, dtype: int64"
      ]
     },
     "execution_count": 31,
     "metadata": {},
     "output_type": "execute_result"
    }
   ],
   "source": [
    "df['fuel'].value_counts()"
   ]
  },
  {
   "cell_type": "code",
   "execution_count": 32,
   "id": "c09d2296",
   "metadata": {},
   "outputs": [],
   "source": [
    "df.drop(['name', 'fuel'], axis=1, inplace=True)"
   ]
  },
  {
   "cell_type": "code",
   "execution_count": 33,
   "id": "62d06f03",
   "metadata": {},
   "outputs": [
    {
     "data": {
      "text/plain": [
       "0     23.4 kmpl\n",
       "1    21.14 kmpl\n",
       "2     23.0 kmpl\n",
       "3     16.1 kmpl\n",
       "4    20.14 kmpl\n",
       "Name: mileage, dtype: object"
      ]
     },
     "execution_count": 33,
     "metadata": {},
     "output_type": "execute_result"
    }
   ],
   "source": [
    "df['mileage'].head()"
   ]
  },
  {
   "cell_type": "code",
   "execution_count": 34,
   "id": "517c86b1",
   "metadata": {},
   "outputs": [],
   "source": [
    "def fieldSrt2float(x: str):\n",
    "    return float(x.split()[0])"
   ]
  },
  {
   "cell_type": "code",
   "execution_count": 35,
   "id": "55cf87a4",
   "metadata": {},
   "outputs": [],
   "source": [
    "df['mileage'] = df['mileage'].map(fieldSrt2float)"
   ]
  },
  {
   "cell_type": "code",
   "execution_count": 36,
   "id": "88614121",
   "metadata": {},
   "outputs": [
    {
     "data": {
      "text/plain": [
       "0        74 bhp\n",
       "1    103.52 bhp\n",
       "2        90 bhp\n",
       "3      88.2 bhp\n",
       "4     81.86 bhp\n",
       "Name: max_power, dtype: object"
      ]
     },
     "execution_count": 36,
     "metadata": {},
     "output_type": "execute_result"
    }
   ],
   "source": [
    "df['max_power'].head()"
   ]
  },
  {
   "cell_type": "code",
   "execution_count": 37,
   "id": "bdb21d98",
   "metadata": {},
   "outputs": [],
   "source": [
    "df['max_power'] = df['max_power'].map(fieldSrt2float)"
   ]
  },
  {
   "cell_type": "code",
   "execution_count": 38,
   "id": "c00c77b5",
   "metadata": {},
   "outputs": [],
   "source": [
    "# Вариант удаления полей про километраж и мощность авто\n",
    "df.drop(['mileage'], axis=1, inplace=True)"
   ]
  },
  {
   "cell_type": "code",
   "execution_count": 39,
   "id": "b90c56d9",
   "metadata": {},
   "outputs": [
    {
     "name": "stdout",
     "output_type": "stream",
     "text": [
      "<class 'pandas.core.frame.DataFrame'>\n",
      "Int64Index: 6794 entries, 0 to 6998\n",
      "Data columns (total 7 columns):\n",
      " #   Column         Non-Null Count  Dtype  \n",
      "---  ------         --------------  -----  \n",
      " 0   year           6794 non-null   int64  \n",
      " 1   selling_price  6794 non-null   int64  \n",
      " 2   km_driven      6794 non-null   int64  \n",
      " 3   transmission   6794 non-null   int64  \n",
      " 4   owner          6794 non-null   int64  \n",
      " 5   max_power      6794 non-null   float64\n",
      " 6   seats          6794 non-null   float64\n",
      "dtypes: float64(2), int64(5)\n",
      "memory usage: 424.6 KB\n"
     ]
    }
   ],
   "source": [
    "df.info()"
   ]
  },
  {
   "cell_type": "code",
   "execution_count": 40,
   "id": "fa7bb9c5",
   "metadata": {},
   "outputs": [
    {
     "data": {
      "text/html": [
       "<div>\n",
       "<style scoped>\n",
       "    .dataframe tbody tr th:only-of-type {\n",
       "        vertical-align: middle;\n",
       "    }\n",
       "\n",
       "    .dataframe tbody tr th {\n",
       "        vertical-align: top;\n",
       "    }\n",
       "\n",
       "    .dataframe thead th {\n",
       "        text-align: right;\n",
       "    }\n",
       "</style>\n",
       "<table border=\"1\" class=\"dataframe\">\n",
       "  <thead>\n",
       "    <tr style=\"text-align: right;\">\n",
       "      <th></th>\n",
       "      <th>year</th>\n",
       "      <th>selling_price</th>\n",
       "      <th>km_driven</th>\n",
       "      <th>transmission</th>\n",
       "      <th>owner</th>\n",
       "      <th>max_power</th>\n",
       "      <th>seats</th>\n",
       "    </tr>\n",
       "  </thead>\n",
       "  <tbody>\n",
       "    <tr>\n",
       "      <th>0</th>\n",
       "      <td>2014</td>\n",
       "      <td>450000</td>\n",
       "      <td>145500</td>\n",
       "      <td>1</td>\n",
       "      <td>1</td>\n",
       "      <td>74.00</td>\n",
       "      <td>5.0</td>\n",
       "    </tr>\n",
       "    <tr>\n",
       "      <th>1</th>\n",
       "      <td>2014</td>\n",
       "      <td>370000</td>\n",
       "      <td>120000</td>\n",
       "      <td>1</td>\n",
       "      <td>2</td>\n",
       "      <td>103.52</td>\n",
       "      <td>5.0</td>\n",
       "    </tr>\n",
       "    <tr>\n",
       "      <th>2</th>\n",
       "      <td>2010</td>\n",
       "      <td>225000</td>\n",
       "      <td>127000</td>\n",
       "      <td>1</td>\n",
       "      <td>1</td>\n",
       "      <td>90.00</td>\n",
       "      <td>5.0</td>\n",
       "    </tr>\n",
       "    <tr>\n",
       "      <th>3</th>\n",
       "      <td>2007</td>\n",
       "      <td>130000</td>\n",
       "      <td>120000</td>\n",
       "      <td>1</td>\n",
       "      <td>1</td>\n",
       "      <td>88.20</td>\n",
       "      <td>5.0</td>\n",
       "    </tr>\n",
       "    <tr>\n",
       "      <th>4</th>\n",
       "      <td>2017</td>\n",
       "      <td>440000</td>\n",
       "      <td>45000</td>\n",
       "      <td>1</td>\n",
       "      <td>1</td>\n",
       "      <td>81.86</td>\n",
       "      <td>5.0</td>\n",
       "    </tr>\n",
       "  </tbody>\n",
       "</table>\n",
       "</div>"
      ],
      "text/plain": [
       "   year  selling_price  km_driven  transmission  owner  max_power  seats\n",
       "0  2014         450000     145500             1      1      74.00    5.0\n",
       "1  2014         370000     120000             1      2     103.52    5.0\n",
       "2  2010         225000     127000             1      1      90.00    5.0\n",
       "3  2007         130000     120000             1      1      88.20    5.0\n",
       "4  2017         440000      45000             1      1      81.86    5.0"
      ]
     },
     "execution_count": 40,
     "metadata": {},
     "output_type": "execute_result"
    }
   ],
   "source": [
    "df.head()"
   ]
  },
  {
   "cell_type": "code",
   "execution_count": 41,
   "id": "d36a07d7",
   "metadata": {},
   "outputs": [
    {
     "data": {
      "text/plain": [
       "<AxesSubplot:>"
      ]
     },
     "execution_count": 41,
     "metadata": {},
     "output_type": "execute_result"
    },
    {
     "data": {
      "image/png": "[encoded data removed]",
      "text/plain": [
       "<Figure size 432x288 with 2 Axes>"
      ]
     },
     "metadata": {
      "needs_background": "light"
     },
     "output_type": "display_data"
    }
   ],
   "source": [
    "corr = df.drop(['selling_price'], axis=1).corr()\n",
    "sns.heatmap(corr, cmap=\"crest\")"
   ]
  },
  {
   "cell_type": "code",
   "execution_count": 42,
   "id": "27ef6561",
   "metadata": {},
   "outputs": [],
   "source": [
    "#cat_features = ['name', 'fuel', 'seller_type', 'transmission', 'owner', 'mileage', 'engine', 'max_power', 'torque']"
   ]
  },
  {
   "cell_type": "code",
   "execution_count": 43,
   "id": "f86665f3",
   "metadata": {},
   "outputs": [],
   "source": [
    "#X = df[['year', 'km_driven', 'seats', \n",
    "#        'name', 'fuel', 'seller_type', 'transmission', 'owner', 'mileage', 'engine', 'max_power', 'torque']]\n",
    "\n",
    "#X = df.drop(['selling_price'], axis=1)\n",
    "#y = df['selling_price'] # целевая переменная (target)"
   ]
  },
  {
   "cell_type": "code",
   "execution_count": 44,
   "id": "aa5428f0",
   "metadata": {},
   "outputs": [],
   "source": [
    "#X = df[['year', 'km_driven', 'seats']]\n"
   ]
  },
  {
   "cell_type": "code",
   "execution_count": null,
   "id": "6bf2613b",
   "metadata": {},
   "outputs": [],
   "source": []
  },
  {
   "cell_type": "code",
   "execution_count": 45,
   "id": "fc780b1e",
   "metadata": {},
   "outputs": [],
   "source": [
    "X = df.drop(['selling_price'], axis=1)\n",
    "y = df['selling_price'] # целевая переменная (target)"
   ]
  },
  {
   "cell_type": "code",
   "execution_count": 46,
   "id": "79e12627",
   "metadata": {},
   "outputs": [
    {
     "name": "stdout",
     "output_type": "stream",
     "text": [
      "<class 'pandas.core.frame.DataFrame'>\n",
      "Int64Index: 6794 entries, 0 to 6998\n",
      "Data columns (total 6 columns):\n",
      " #   Column        Non-Null Count  Dtype  \n",
      "---  ------        --------------  -----  \n",
      " 0   year          6794 non-null   int64  \n",
      " 1   km_driven     6794 non-null   int64  \n",
      " 2   transmission  6794 non-null   int64  \n",
      " 3   owner         6794 non-null   int64  \n",
      " 4   max_power     6794 non-null   float64\n",
      " 5   seats         6794 non-null   float64\n",
      "dtypes: float64(2), int64(4)\n",
      "memory usage: 371.5 KB\n"
     ]
    }
   ],
   "source": [
    "X.info()"
   ]
  },
  {
   "cell_type": "code",
   "execution_count": 47,
   "id": "89eb3e26",
   "metadata": {},
   "outputs": [
    {
     "data": {
      "text/plain": [
       "((5095, 6), (1699, 6))"
      ]
     },
     "execution_count": 47,
     "metadata": {},
     "output_type": "execute_result"
    }
   ],
   "source": [
    "from sklearn.model_selection import train_test_split, cross_val_score, GridSearchCV\n",
    "from sklearn.metrics import mean_squared_error, r2_score\n",
    "\n",
    "X_train, X_test, y_train, y_test = train_test_split(X, y, test_size=0.25, random_state=42)\n",
    "X_train.shape, X_test.shape"
   ]
  },
  {
   "cell_type": "code",
   "execution_count": 48,
   "id": "06328c3d",
   "metadata": {},
   "outputs": [
    {
     "data": {
      "text/html": [
       "<div>\n",
       "<style scoped>\n",
       "    .dataframe tbody tr th:only-of-type {\n",
       "        vertical-align: middle;\n",
       "    }\n",
       "\n",
       "    .dataframe tbody tr th {\n",
       "        vertical-align: top;\n",
       "    }\n",
       "\n",
       "    .dataframe thead th {\n",
       "        text-align: right;\n",
       "    }\n",
       "</style>\n",
       "<table border=\"1\" class=\"dataframe\">\n",
       "  <thead>\n",
       "    <tr style=\"text-align: right;\">\n",
       "      <th></th>\n",
       "      <th>year</th>\n",
       "      <th>km_driven</th>\n",
       "      <th>transmission</th>\n",
       "      <th>owner</th>\n",
       "      <th>max_power</th>\n",
       "      <th>seats</th>\n",
       "    </tr>\n",
       "  </thead>\n",
       "  <tbody>\n",
       "    <tr>\n",
       "      <th>0</th>\n",
       "      <td>0.653846</td>\n",
       "      <td>0.270169</td>\n",
       "      <td>1.0</td>\n",
       "      <td>0.25</td>\n",
       "      <td>0.286765</td>\n",
       "      <td>0.625</td>\n",
       "    </tr>\n",
       "    <tr>\n",
       "      <th>1</th>\n",
       "      <td>0.769231</td>\n",
       "      <td>0.133352</td>\n",
       "      <td>1.0</td>\n",
       "      <td>0.25</td>\n",
       "      <td>0.112200</td>\n",
       "      <td>0.375</td>\n",
       "    </tr>\n",
       "    <tr>\n",
       "      <th>2</th>\n",
       "      <td>0.269231</td>\n",
       "      <td>0.017317</td>\n",
       "      <td>1.0</td>\n",
       "      <td>0.25</td>\n",
       "      <td>0.074074</td>\n",
       "      <td>0.375</td>\n",
       "    </tr>\n",
       "    <tr>\n",
       "      <th>3</th>\n",
       "      <td>0.846154</td>\n",
       "      <td>0.133352</td>\n",
       "      <td>1.0</td>\n",
       "      <td>0.25</td>\n",
       "      <td>0.152315</td>\n",
       "      <td>0.375</td>\n",
       "    </tr>\n",
       "    <tr>\n",
       "      <th>4</th>\n",
       "      <td>0.692308</td>\n",
       "      <td>0.207822</td>\n",
       "      <td>1.0</td>\n",
       "      <td>0.75</td>\n",
       "      <td>0.206019</td>\n",
       "      <td>0.375</td>\n",
       "    </tr>\n",
       "  </tbody>\n",
       "</table>\n",
       "</div>"
      ],
      "text/plain": [
       "       year  km_driven  transmission  owner  max_power  seats\n",
       "0  0.653846   0.270169           1.0   0.25   0.286765  0.625\n",
       "1  0.769231   0.133352           1.0   0.25   0.112200  0.375\n",
       "2  0.269231   0.017317           1.0   0.25   0.074074  0.375\n",
       "3  0.846154   0.133352           1.0   0.25   0.152315  0.375\n",
       "4  0.692308   0.207822           1.0   0.75   0.206019  0.375"
      ]
     },
     "execution_count": 48,
     "metadata": {},
     "output_type": "execute_result"
    }
   ],
   "source": [
    "from sklearn.preprocessing import MinMaxScaler\n",
    "\n",
    "ss = MinMaxScaler()\n",
    "ss.fit(X_train) # вычислить min, max по каждому столбцу\n",
    "\n",
    "X_train = pd.DataFrame(ss.transform(X_train), columns=X_train.columns)\n",
    "X_test = pd.DataFrame(ss.transform(X_test), columns=X_test.columns)\n",
    "\n",
    "X_train.head()"
   ]
  },
  {
   "cell_type": "code",
   "execution_count": null,
   "id": "9f333ec5",
   "metadata": {},
   "outputs": [],
   "source": [
    "from catboost import CatBoostRegressor\n",
    "\n",
    "# model = CatBoostRegressor(iterations= 10000, random_seed= 42, learning_rate= 1e-3, verbose= False)\n",
    "\n",
    "# model без дубляжа километража\n",
    "model = CatBoostRegressor(iterations= 10000, depth=10,learning_rate= 0.003, \n",
    "                          loss_function= 'RMSE',  random_seed= 42, verbose= False)\n",
    "\n",
    "model.fit(X_train, y_train) "
   ]
  },
  {
   "cell_type": "code",
   "execution_count": null,
   "id": "4b2040af",
   "metadata": {},
   "outputs": [],
   "source": [
    "scores = cross_val_score(model, X_train, y_train, cv=5)\n",
    "scores"
   ]
  },
  {
   "cell_type": "code",
   "execution_count": null,
   "id": "020147c5",
   "metadata": {},
   "outputs": [],
   "source": [
    "scores.mean()"
   ]
  },
  {
   "cell_type": "code",
   "execution_count": null,
   "id": "b9a0703c",
   "metadata": {},
   "outputs": [],
   "source": [
    "print(cross_val_score(model, X_train, y_train, cv=5, scoring=\"r2\").mean())"
   ]
  },
  {
   "cell_type": "code",
   "execution_count": null,
   "id": "ef242ee2",
   "metadata": {},
   "outputs": [],
   "source": [
    "pred = model.predict(X_test)"
   ]
  },
  {
   "cell_type": "code",
   "execution_count": null,
   "id": "0fbe8f1b",
   "metadata": {},
   "outputs": [],
   "source": [
    "mean_squared_error(y_test, pred, squared=False)"
   ]
  },
  {
   "cell_type": "code",
   "execution_count": null,
   "id": "6bb193ed",
   "metadata": {},
   "outputs": [],
   "source": [
    "r2_score(y_test, pred)"
   ]
  },
  {
   "cell_type": "code",
   "execution_count": null,
   "id": "dcc0b26e",
   "metadata": {},
   "outputs": [],
   "source": [
    "import pickle\n",
    "\n",
    "with open('model_avto.pickle', 'wb') as f:\n",
    "    pickle.dump(model, f)\n",
    "\n",
    "# а так модель можно загрузить из файла:\n",
    "# with open('model_avto.pickle', 'rb') as f:\n",
    "#     model = pickle.load(f)"
   ]
  },
  {
   "cell_type": "code",
   "execution_count": null,
   "id": "ea6266fa",
   "metadata": {},
   "outputs": [],
   "source": [
    "код для поиска лучшей модели (выполнять пока не нужно)"
   ]
  },
  {
   "cell_type": "code",
   "execution_count": null,
   "id": "26330ca5",
   "metadata": {},
   "outputs": [],
   "source": [
    "model2 = CatBoostRegressor(random_seed=42, verbose=False)\n",
    "\n",
    "params = {\"iterations\": [10000],\n",
    "          \"depth\": [8, 10, 12],\n",
    "          \"loss_function\": [\"RMSE\"],\n",
    "          \"learning_rate\": [0.001, 0.002, 0.003]}\n",
    "\n",
    "\n",
    "clf = GridSearchCV(estimator=model2, param_grid=params, cv=3, scoring=\"r2\",)\n",
    "clf.fit(X_train, y_train)"
   ]
  },
  {
   "cell_type": "code",
   "execution_count": null,
   "id": "05570412",
   "metadata": {},
   "outputs": [],
   "source": [
    "clf.best_estimator_.get_params()"
   ]
  },
  {
   "cell_type": "code",
   "execution_count": null,
   "id": "203843bf",
   "metadata": {},
   "outputs": [],
   "source": [
    "#model3= clf.best_estimator_\n",
    "pred = clf.best_estimator_.predict(X_test)\n",
    "r2_score(y_test, pred)"
   ]
  },
  {
   "cell_type": "code",
   "execution_count": null,
   "id": "74537871",
   "metadata": {},
   "outputs": [],
   "source": [
    "mean_squared_error(y_test, pred, squared=False)"
   ]
  },
  {
   "cell_type": "markdown",
   "id": "d315e511",
   "metadata": {},
   "source": [
    "LabelEncoder - каждому уникальному значению признака присваивается своё число.\n",
    "\n",
    "CountEncoder - каждому уникальному значению признака присваивается число, равное количеству раз, которое признак встречается в выборке."
   ]
  }
 ],
 "metadata": {
  "kernelspec": {
   "display_name": "Python 3 (ipykernel)",
   "language": "python",
   "name": "python3"
  },
  "language_info": {
   "codemirror_mode": {
    "name": "ipython",
    "version": 3
   },
   "file_extension": ".py",
   "mimetype": "text/x-python",
   "name": "python",
   "nbconvert_exporter": "python",
   "pygments_lexer": "ipython3",
   "version": "3.7.12"
  }
 },
 "nbformat": 4,
 "nbformat_minor": 5
}
